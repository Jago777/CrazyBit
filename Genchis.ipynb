{
 "cells": [
  {
   "cell_type": "code",
   "execution_count": 1,
   "metadata": {},
   "outputs": [],
   "source": [
    "import numpy as np"
   ]
  },
  {
   "cell_type": "code",
   "execution_count": null,
   "metadata": {},
   "outputs": [],
   "source": [
    "def GenChis(h=0):\n",
    "    B = []\n",
    "    for g in range(0,h):\n",
    "        A = np.random.randint(99)\n",
    "        A += 1\n",
    "        d = np.random.randint(200)\n",
    "        if d == 0:\n",
    "            A = d\n",
    "        f = np.random.random_sample()\n",
    "        f -= 0.5\n",
    "        if f < 0:\n",
    "            f -= 0.5\n",
    "        elif f > 0:\n",
    "            f += 0.5\n",
    "        f = round(f)\n",
    "        A *= f\n",
    "        B.append(A)\n",
    "    return B"
   ]
  }
 ],
 "metadata": {
  "kernelspec": {
   "display_name": "Python 3",
   "language": "python",
   "name": "python3"
  },
  "language_info": {
   "codemirror_mode": {
    "name": "ipython",
    "version": 3
   },
   "file_extension": ".py",
   "mimetype": "text/x-python",
   "name": "python",
   "nbconvert_exporter": "python",
   "pygments_lexer": "ipython3",
   "version": "3.5.4"
  }
 },
 "nbformat": 4,
 "nbformat_minor": 2
}
