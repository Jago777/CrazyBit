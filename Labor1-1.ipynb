{
 "cells": [
  {
   "cell_type": "code",
   "execution_count": 5,
   "metadata": {},
   "outputs": [],
   "source": [
    "import numpy as np"
   ]
  },
  {
   "cell_type": "code",
   "execution_count": 818,
   "metadata": {},
   "outputs": [],
   "source": [
    "def GenChis():\n",
    "    A = []\n",
    "    for a in range(0,2):\n",
    "        k = np.random.randint(9)\n",
    "        k += 1\n",
    "        A.append(k)\n",
    "    B = 1\n",
    "    for i in range(0,2):\n",
    "        B *= A[i]\n",
    "    g = (10**2)*2\n",
    "    d = np.random.randint(g)\n",
    "    if d == 0:\n",
    "        B *= d\n",
    "    else:\n",
    "        f = np.random.random_sample()\n",
    "        f -= 0.5\n",
    "        if f < 0:\n",
    "            f -= 0.5\n",
    "        elif f > 0:\n",
    "            f += 0.5\n",
    "        f = round(f)\n",
    "        B *= f\n",
    "    return B"
   ]
  },
  {
   "cell_type": "code",
   "execution_count": 848,
   "metadata": {},
   "outputs": [
    {
     "name": "stdout",
     "output_type": "stream",
     "text": [
      "-27\n"
     ]
    }
   ],
   "source": [
    "j = GenChis()\n",
    "print(j)"
   ]
  },
  {
   "cell_type": "code",
   "execution_count": null,
   "metadata": {},
   "outputs": [],
   "source": []
  }
 ],
 "metadata": {
  "kernelspec": {
   "display_name": "Python 3",
   "language": "python",
   "name": "python3"
  },
  "language_info": {
   "codemirror_mode": {
    "name": "ipython",
    "version": 3
   },
   "file_extension": ".py",
   "mimetype": "text/x-python",
   "name": "python",
   "nbconvert_exporter": "python",
   "pygments_lexer": "ipython3",
   "version": "3.5.4"
  }
 },
 "nbformat": 4,
 "nbformat_minor": 2
}
